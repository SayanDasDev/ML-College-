{
 "cells": [
  {
   "cell_type": "markdown",
   "metadata": {},
   "source": [
    "# Linear Regression Notebook"
   ]
  },
  {
   "cell_type": "code",
   "execution_count": 22,
   "metadata": {},
   "outputs": [],
   "source": [
    "# LinearRegressionNotebook.ipynb\n",
    "\n",
    "# **Linear Regression Implementation Notebook**\n",
    "# This notebook contains code for building a Linear Regression model from scratch.\n",
    "# Follow the instructions and complete each section.\n",
    "\n",
    "# # Part 1: Imports and Setup\n",
    "\n",
    "# Import required libraries\n",
    "import numpy as np\n",
    "import matplotlib.pyplot as plt\n",
    "from sklearn.datasets import fetch_openml\n",
    "from sklearn.model_selection import train_test_split\n",
    "from sklearn.preprocessing import StandardScaler\n",
    "from sklearn.metrics import accuracy_score, log_loss\n",
    "import tkinter as tk        # sudo apt install python3-tk\n",
    "from PIL import Image, ImageGrab    # pip install pillow\n",
    "\n",
    "# Helper Function to calculate Mean Squared Error\n",
    "def mean_squared_error(y_true, y_pred):\n",
    "    return np.mean((y_true - y_pred) ** 2)\n"
   ]
  },
  {
   "cell_type": "markdown",
   "metadata": {},
   "source": [
    "## Class Definition"
   ]
  },
  {
   "cell_type": "code",
   "execution_count": 23,
   "metadata": {},
   "outputs": [],
   "source": [
    "# # Part 2: Logistic Regression Class Definition\n",
    "# In this section, we will define the Linear Regression class structure.\n",
    "# Follow the TODO comments to complete each function.\n",
    "\n",
    "class LogisticRegression:\n",
    "    def __init__(self, learning_rate=0.01, epochs=1000):\n",
    "        \"\"\"\n",
    "        Initialize the LogisticRegression model with learning rate and number of epochs.\n",
    "\n",
    "        Parameters:\n",
    "        - learning_rate (float): The step size for gradient descent\n",
    "        - epochs (int): The number of iterations for training\n",
    "        \"\"\"\n",
    "        self.learning_rate = learning_rate\n",
    "        self.epochs = epochs\n",
    "        self.weights = None\n",
    "        self.bias = None\n",
    "\n",
    "    def sigmoid(self, z):\n",
    "        \"\"\"\n",
    "        Apply the sigmoid function.\n",
    "\n",
    "        Parameters:\n",
    "        - z (numpy array): Input array\n",
    "\n",
    "        Returns:\n",
    "        - numpy array: Output after applying the sigmoid function\n",
    "        \"\"\"\n",
    "        # TODO implement the sigmoid function\n",
    "        z = np.clip(z, -500, 500)\n",
    "        return 1 / (1 + np.exp(-z))\n",
    "\n",
    "    def fit(self, X, y):\n",
    "        \"\"\"\n",
    "        Train the Logistic Regression model using gradient descent.\n",
    "\n",
    "        Parameters:\n",
    "        - X (numpy array): The input features, shape (n_samples, n_features)\n",
    "        - y (numpy array): The binary target values (0 or 1), shape (n_samples,)\n",
    "        \"\"\"\n",
    "        # Initialize weights and bias\n",
    "        self.weights = np.zeros(X.shape[1])\n",
    "        self.bias = 0\n",
    "\n",
    "        # Gradient Descent\n",
    "        for _ in range(self.epochs):\n",
    "            # TODO Calculate linear combination\n",
    "            linear_model = np.dot(X, self.weights) + self.bias\n",
    "            # TODO Apply sigmoid function\n",
    "            y_pred = self.sigmoid(linear_model)\n",
    "\n",
    "            # TODO Calculate gradients\n",
    "            dw = (1/X.shape[0]) * np.dot(X.T, (y_pred - y))\n",
    "            db = (1/X.shape[0]) * np.sum(y_pred - y)\n",
    "\n",
    "            # TODO Update weights and bias\n",
    "            self.weights = self.weights - self.learning_rate * dw\n",
    "            self.bias = self.bias - self.learning_rate * db\n",
    "\n",
    "    def predict_proba(self, X):\n",
    "        \"\"\"\n",
    "        Predict probabilities for the input features.\n",
    "\n",
    "        Parameters:\n",
    "        - X (numpy array): The input features, shape (n_samples, n_features)\n",
    "\n",
    "        Returns:\n",
    "        - numpy array: Predicted probabilities for the positive class\n",
    "        \"\"\"\n",
    "        # TODO return the probabilities using the sigmoid fuction\n",
    "        return self.sigmoid(np.dot(X, self.weights) + self.bias)\n",
    "    \n",
    "    def predict(self, X):\n",
    "        \"\"\"\n",
    "        Predict binary class labels for the input features.\n",
    "\n",
    "        Parameters:\n",
    "        - X (numpy array): The input features, shape (n_samples, n_features)\n",
    "\n",
    "        Returns:\n",
    "        - numpy array: Predicted binary class labels (0 or 1)\n",
    "        \"\"\"\n",
    "        # TODO predict the binary classes\n",
    "        proba = self.predict_proba(X)\n",
    "        return (proba >= 0.5).astype(int)"
   ]
  },
  {
   "cell_type": "markdown",
   "metadata": {},
   "source": [
    "## Loading and Preprocessing the MNIST Dataset"
   ]
  },
  {
   "cell_type": "code",
   "execution_count": 24,
   "metadata": {},
   "outputs": [],
   "source": [
    "# # Part 3: Loading and Preprocessing the MNIST Dataset\n",
    "\n",
    "# Load MNIST data\n",
    "mnist = fetch_openml('mnist_784', version=1)\n",
    "X, y = mnist[\"data\"], mnist[\"target\"]\n",
    "\n",
    "# TODO Filter for only the classes \"0\" and \"1\"\n",
    "X = X[(y == '0') | (y == '1')]\n",
    "\n",
    "# TODO Convert labels to integers (0 and 1)\n",
    "y = y[(y == '0') | (y == '1')].astype(int)\n",
    "\n",
    "# TODO Split data into training and testing sets\n",
    "X_train, X_test, y_train, y_test = train_test_split(X, y, test_size=0.2, random_state=42)\n",
    "\n",
    "# TODO Normalize the images\n",
    "scaler = StandardScaler()\n",
    "X_train = scaler.fit_transform(X_train)\n",
    "X_test = scaler.transform(X_test)"
   ]
  },
  {
   "cell_type": "markdown",
   "metadata": {},
   "source": [
    "## Training the Model"
   ]
  },
  {
   "cell_type": "code",
   "execution_count": 25,
   "metadata": {},
   "outputs": [],
   "source": [
    "# # Part 4: Training the Model\n",
    "\n",
    "# TODO Instantiate the LinearRegression model\n",
    "model = LogisticRegression(learning_rate=0.01, epochs=1000)\n",
    "\n",
    "# TODO Use the .fit() method to train the model on X_train and y_train\n",
    "model.fit(X_train, y_train)\n"
   ]
  },
  {
   "cell_type": "markdown",
   "metadata": {},
   "source": [
    "## Testing and Evaluation"
   ]
  },
  {
   "cell_type": "code",
   "execution_count": 26,
   "metadata": {},
   "outputs": [
    {
     "name": "stdout",
     "output_type": "stream",
     "text": [
      "Train Loss: 0.006771965610085443\n",
      "Test Loss: 0.0056050578702894795\n",
      "Train Accuracy: 0.9987313937753721\n",
      "Test Accuracy: 0.9993234100135318\n"
     ]
    }
   ],
   "source": [
    "# # Part 5: Testing and Evaluation\n",
    "# This section is for testing the trained model and evaluating its performance.\n",
    "\n",
    "# TODO: Make predictions on the test data\n",
    "y_train_proba = model.predict_proba(X_train)\n",
    "y_test_proba = model.predict_proba(X_test)\n",
    "\n",
    "# TODO Convert probabilities to binary predictions\n",
    "y_train_pred_binary = model.predict(X_train)\n",
    "y_test_pred_binary = model.predict(X_test)\n",
    "\n",
    "# Calculate losses\n",
    "train_loss = log_loss(y_train, y_train_proba)  # Binary cross-entropy loss for train set\n",
    "test_loss = log_loss(y_test, y_test_proba)    # Binary cross-entropy loss for test set\n",
    "\n",
    "# Calculate accuracies\n",
    "train_accuracy = accuracy_score(y_train, y_train_pred_binary)\n",
    "test_accuracy = accuracy_score(y_test, y_test_pred_binary)\n",
    "\n",
    "# Print results\n",
    "print(\"Train Loss:\", train_loss)\n",
    "print(\"Test Loss:\", test_loss)\n",
    "print(\"Train Accuracy:\", train_accuracy)\n",
    "print(\"Test Accuracy:\", test_accuracy)\n"
   ]
  },
  {
   "cell_type": "markdown",
   "metadata": {},
   "source": [
    "## Visualizing Example Predictions"
   ]
  },
  {
   "cell_type": "code",
   "execution_count": 27,
   "metadata": {},
   "outputs": [
    {
     "data": {
      "image/png": "[encoded data removed]",
      "text/plain": [
       "<Figure size 1000x500 with 5 Axes>"
      ]
     },
     "metadata": {},
     "output_type": "display_data"
    }
   ],
   "source": [
    "# # Part 6: Visualizing Example Predictions\n",
    "\n",
    "# Plot some examples from the test set and their predicted labels\n",
    "\n",
    "# Uncomment below to visualize some test examples\n",
    "fig, axes = plt.subplots(1, 5, figsize=(10, 5))\n",
    "\n",
    "# Ensure we only plot as many images as we have predictions for\n",
    "num_examples = min(5, len(X_test), len(y_test_pred_binary))\n",
    "\n",
    "for i, ax in enumerate(axes[:num_examples]):\n",
    "    ax.imshow(X_test[i].reshape(28, 28), cmap=\"gray\")\n",
    "    ax.set_title(f\"Label: {y_test.values[i]}\\nPredicted: {y_test_pred_binary[i]}\")\n",
    "    ax.axis(\"off\")\n",
    "\n",
    "plt.show()"
   ]
  },
  {
   "cell_type": "markdown",
   "metadata": {},
   "source": [
    "## Code for Drawing Interface and Prediction"
   ]
  },
  {
   "cell_type": "code",
   "execution_count": 28,
   "metadata": {
    "notebookRunGroups": {
     "groupValue": "2"
    }
   },
   "outputs": [
    {
     "name": "stderr",
     "output_type": "stream",
     "text": [
      "C:\\Users\\Sayan\\AppData\\Roaming\\Python\\Python312\\site-packages\\sklearn\\base.py:493: UserWarning: X does not have valid feature names, but StandardScaler was fitted with feature names\n",
      "  warnings.warn(\n",
      "C:\\Users\\Sayan\\AppData\\Local\\Temp\\ipykernel_10728\\2428009333.py:59: DeprecationWarning: Conversion of an array with ndim > 0 to a scalar is deprecated, and will error in future. Ensure you extract a single element from your array before performing this operation. (Deprecated NumPy 1.25.)\n",
      "  predicted_digit = int(prediction > 0.5)  # 0 or 1 based on threshold\n",
      "C:\\Users\\Sayan\\AppData\\Roaming\\Python\\Python312\\site-packages\\sklearn\\base.py:493: UserWarning: X does not have valid feature names, but StandardScaler was fitted with feature names\n",
      "  warnings.warn(\n",
      "C:\\Users\\Sayan\\AppData\\Local\\Temp\\ipykernel_10728\\2428009333.py:59: DeprecationWarning: Conversion of an array with ndim > 0 to a scalar is deprecated, and will error in future. Ensure you extract a single element from your array before performing this operation. (Deprecated NumPy 1.25.)\n",
      "  predicted_digit = int(prediction > 0.5)  # 0 or 1 based on threshold\n",
      "C:\\Users\\Sayan\\AppData\\Roaming\\Python\\Python312\\site-packages\\sklearn\\base.py:493: UserWarning: X does not have valid feature names, but StandardScaler was fitted with feature names\n",
      "  warnings.warn(\n",
      "C:\\Users\\Sayan\\AppData\\Local\\Temp\\ipykernel_10728\\2428009333.py:59: DeprecationWarning: Conversion of an array with ndim > 0 to a scalar is deprecated, and will error in future. Ensure you extract a single element from your array before performing this operation. (Deprecated NumPy 1.25.)\n",
      "  predicted_digit = int(prediction > 0.5)  # 0 or 1 based on threshold\n",
      "C:\\Users\\Sayan\\AppData\\Roaming\\Python\\Python312\\site-packages\\sklearn\\base.py:493: UserWarning: X does not have valid feature names, but StandardScaler was fitted with feature names\n",
      "  warnings.warn(\n",
      "C:\\Users\\Sayan\\AppData\\Local\\Temp\\ipykernel_10728\\2428009333.py:59: DeprecationWarning: Conversion of an array with ndim > 0 to a scalar is deprecated, and will error in future. Ensure you extract a single element from your array before performing this operation. (Deprecated NumPy 1.25.)\n",
      "  predicted_digit = int(prediction > 0.5)  # 0 or 1 based on threshold\n",
      "C:\\Users\\Sayan\\AppData\\Roaming\\Python\\Python312\\site-packages\\sklearn\\base.py:493: UserWarning: X does not have valid feature names, but StandardScaler was fitted with feature names\n",
      "  warnings.warn(\n",
      "C:\\Users\\Sayan\\AppData\\Local\\Temp\\ipykernel_10728\\2428009333.py:59: DeprecationWarning: Conversion of an array with ndim > 0 to a scalar is deprecated, and will error in future. Ensure you extract a single element from your array before performing this operation. (Deprecated NumPy 1.25.)\n",
      "  predicted_digit = int(prediction > 0.5)  # 0 or 1 based on threshold\n",
      "C:\\Users\\Sayan\\AppData\\Roaming\\Python\\Python312\\site-packages\\sklearn\\base.py:493: UserWarning: X does not have valid feature names, but StandardScaler was fitted with feature names\n",
      "  warnings.warn(\n",
      "C:\\Users\\Sayan\\AppData\\Local\\Temp\\ipykernel_10728\\2428009333.py:59: DeprecationWarning: Conversion of an array with ndim > 0 to a scalar is deprecated, and will error in future. Ensure you extract a single element from your array before performing this operation. (Deprecated NumPy 1.25.)\n",
      "  predicted_digit = int(prediction > 0.5)  # 0 or 1 based on threshold\n"
     ]
    }
   ],
   "source": [
    "# Create a simple GUI using tkinter for a 28x28 input window\n",
    "\n",
    "class DigitDrawer:\n",
    "    def __init__(self, root, model, scaler):\n",
    "        self.root = root\n",
    "        self.model = model\n",
    "        self.scaler = scaler\n",
    "\n",
    "        self.canvas = tk.Canvas(root, width=280, height=280, bg=\"white\")\n",
    "        self.canvas.pack()\n",
    "\n",
    "        # Bind mouse events for drawing\n",
    "        self.canvas.bind(\"<B1-Motion>\", self.draw)\n",
    "\n",
    "        # Button to clear canvas\n",
    "        self.clear_button = tk.Button(root, text=\"Clear\", command=self.clear_canvas)\n",
    "        self.clear_button.pack()\n",
    "\n",
    "        # Button to predict the drawn digit\n",
    "        self.predict_button = tk.Button(root, text=\"Predict\", command=self.predict_digit)\n",
    "        self.predict_button.pack()\n",
    "\n",
    "        # Label to show the prediction result\n",
    "        self.prediction_label = tk.Label(root, text=\"Draw a digit (0 or 1) and click 'Predict'\")\n",
    "        self.prediction_label.pack()\n",
    "\n",
    "    def draw(self, event):\n",
    "        # Draw a small rectangle where the user drags the mouse\n",
    "        x, y = event.x, event.y\n",
    "        self.canvas.create_rectangle(x, y, x+20, y+20, fill=\"black\")\n",
    "\n",
    "    def clear_canvas(self):\n",
    "        # Clear the canvas for a new drawing\n",
    "        self.canvas.delete(\"all\")\n",
    "        self.prediction_label.config(text=\"Draw a digit (0 or 1) and click 'Predict'\")\n",
    "\n",
    "    def predict_digit(self):\n",
    "        # Get the canvas as an image and preprocess it for prediction\n",
    "        self.canvas.update()\n",
    "        x = self.root.winfo_rootx() + self.canvas.winfo_x()\n",
    "        y = self.root.winfo_rooty() + self.canvas.winfo_y()\n",
    "        x1 = x + self.canvas.winfo_width()\n",
    "        y1 = y + self.canvas.winfo_height()\n",
    "\n",
    "        # Capture the drawn content as an image\n",
    "        img = ImageGrab.grab((x, y, x1, y1)).convert(\"L\")  # Convert to grayscale\n",
    "        img = img.resize((28, 28), Image.LANCZOS)  # Resize to 28x28\n",
    "        img_data = np.array(img)  # Convert image to array\n",
    "\n",
    "        # Invert colors (since model expects white background)\n",
    "        img_data = 255 - img_data\n",
    "\n",
    "        # Flatten and normalize the data\n",
    "        img_data = img_data.flatten().reshape(1, -1)  # Flatten to 1x784\n",
    "        img_data = self.scaler.transform(img_data)  # Normalize based on training data\n",
    "\n",
    "        # Predict using the linear regression model\n",
    "        prediction = self.model.predict(img_data)\n",
    "        predicted_digit = int(prediction > 0.5)  # 0 or 1 based on threshold\n",
    "\n",
    "        # Display the prediction\n",
    "        self.prediction_label.config(text=f\"Predicted Digit: {predicted_digit}\")\n",
    "\n",
    "# Set up tkinter window\n",
    "root = tk.Tk()\n",
    "root.title(\"Draw a Digit (0 or 1)\")\n",
    "\n",
    "# TODO Initialize the digit drawer app with scaler normalization\n",
    "app = DigitDrawer(root, model, scaler)\n",
    "\n",
    "# Run the tkinter main loop\n",
    "root.mainloop()\n"
   ]
  },
  {
   "cell_type": "code",
   "execution_count": null,
   "metadata": {},
   "outputs": [],
   "source": []
  }
 ],
 "metadata": {
  "kernelspec": {
   "display_name": "Python 3",
   "language": "python",
   "name": "python3"
  },
  "language_info": {
   "codemirror_mode": {
    "name": "ipython",
    "version": 3
   },
   "file_extension": ".py",
   "mimetype": "text/x-python",
   "name": "python",
   "nbconvert_exporter": "python",
   "pygments_lexer": "ipython3",
   "version": "3.12.4"
  }
 },
 "nbformat": 4,
 "nbformat_minor": 2
}
